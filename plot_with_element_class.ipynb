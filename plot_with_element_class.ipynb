{
 "cells": [
  {
   "cell_type": "code",
   "execution_count": 1,
   "metadata": {},
   "outputs": [],
   "source": [
    "\"\"\"Import all packages that will be used\"\"\"\n",
    "from os.path import join\n",
    "import pandas as pd\n",
    "import matplotlib.pyplot as plt\n",
    "import numpy as np"
   ]
  },
  {
   "cell_type": "code",
   "execution_count": 5,
   "metadata": {},
   "outputs": [],
   "source": [
    "\"\"\"Classes\"\"\"\n",
    "class Element:\n",
    "    def __init__(self,ele):\n",
    "        self.element=ele\n",
    "        self.info=\"ICP-MS Elements: \"+self.element\n",
    "        self.author=\"yyan\"\n",
    "        #----Load results-------\n",
    "        self.filename=\"sample.xlsx\"\n",
    "        #self.linuxpath='/home/purity/Desktop/Data'\n",
    "        #self.winpath='C:\\\\Users\\\\yyan\\\\Documents\\\\Data\\\\ICPMS\\\\Alldata'\n",
    "        self.macpath='/Users/wallepro/yunqi/Purity/Data/ICPMS/Alldata'\n",
    "        self.filepath=join(self.macpath,self.filename)\n",
    "        #Loading all sample info (not needed for now)\n",
    "        #self.df_sample=pd.read_excel(self.filepath,sheetname=\"sample\",parse_cols=\"A:H\")\n",
    "        #Load all elements data\n",
    "        self.df_elements=pd.read_excel(self.filepath,sheet_name=\"sample\",usecols=\"J:AM\")\n",
    "        #Get only one element data\n",
    "        self.data=self.df_elements[self.element]\n",
    "\n",
    "    def scatter(self):\n",
    "        #data=self.df_elements[self.element]\n",
    "        num_data=self.data.index.values\n",
    "        return plt.scatter(num_data,self.data)\n",
    "    \n",
    "    def histogram(self,binval=None):\n",
    "        #data=self.df_elements[self.element]\n",
    "        binval = binval\n",
    "        return plt.hist(self.data,bins=binval)\n",
    "    \n",
    "    def mean(self):\n",
    "        return self.data.mean()\n",
    "    \n",
    "    def quantile(self,val=None):\n",
    "        val=val or 0.5\n",
    "        return self.data.quantile(val)\n",
    "    \n",
    "    def convert(self):\n",
    "        return self.data\n",
    "        \n",
    "    def zero(self):\n",
    "        return (self.data==0).any()\n",
    "    \n",
    "    def total(self):\n",
    "        return len(self.data)\n",
    "    \n",
    "    def numzero(self):\n",
    "        nozerodata=self.data[self.data>0]\n",
    "        return len(self.data)-len(nozerodata)\n",
    "        \n",
    "\"\"\"Now, we want to explore Element Iron\"\"\"\n",
    "#---Define 'iron' as Element Class-----\n",
    "iron=Element('Fe')"
   ]
  },
  {
   "cell_type": "code",
   "execution_count": 6,
   "metadata": {},
   "outputs": [
    {
     "data": {
      "text/plain": [
       "<matplotlib.collections.PathCollection at 0x1165682e8>"
      ]
     },
     "execution_count": 6,
     "metadata": {},
     "output_type": "execute_result"
    },
    {
     "data": {
      "image/png": "[encoded data removed]",
      "text/plain": [
       "<Figure size 432x288 with 1 Axes>"
      ]
     },
     "metadata": {
      "needs_background": "light"
     },
     "output_type": "display_data"
    }
   ],
   "source": [
    "#---Scater plot of 'iron' e.g. the Fe element in the data set-----\n",
    "iron.scatter()"
   ]
  },
  {
   "cell_type": "code",
   "execution_count": 7,
   "metadata": {},
   "outputs": [
    {
     "data": {
      "text/plain": [
       "(array([798.,   7.,   0.,   6.,   0.,   0.,   0.,   0.,   0.,   2.]),\n",
       " array([0.00000000e+00, 1.97349472e+07, 3.94698944e+07, 5.92048417e+07,\n",
       "        7.89397889e+07, 9.86747361e+07, 1.18409683e+08, 1.38144631e+08,\n",
       "        1.57879578e+08, 1.77614525e+08, 1.97349472e+08]),\n",
       " <a list of 10 Patch objects>)"
      ]
     },
     "execution_count": 7,
     "metadata": {},
     "output_type": "execute_result"
    },
    {
     "data": {
      "image/png": "[encoded data removed]",
      "text/plain": [
       "<Figure size 432x288 with 1 Axes>"
      ]
     },
     "metadata": {
      "needs_background": "light"
     },
     "output_type": "display_data"
    }
   ],
   "source": [
    "#---Histogram of iron element------\n",
    "iron.histogram()"
   ]
  },
  {
   "cell_type": "code",
   "execution_count": 8,
   "metadata": {},
   "outputs": [
    {
     "name": "stdout",
     "output_type": "stream",
     "text": [
      "1298331.1273648618\n"
     ]
    }
   ],
   "source": [
    "#---Mean value of all iron elements------\n",
    "iron_mean=iron.mean()\n",
    "print(iron_mean)"
   ]
  },
  {
   "cell_type": "code",
   "execution_count": 9,
   "metadata": {},
   "outputs": [
    {
     "name": "stdout",
     "output_type": "stream",
     "text": [
      "20812.6595462743\n"
     ]
    }
   ],
   "source": [
    "#---Median vaolue of iron elements-----\n",
    "iron_median=iron.quantile()#---default is 50% quantile\n",
    "print(iron_median)"
   ]
  },
  {
   "cell_type": "code",
   "execution_count": 11,
   "metadata": {},
   "outputs": [
    {
     "name": "stdout",
     "output_type": "stream",
     "text": [
      "3210.86347704362\n"
     ]
    }
   ],
   "source": [
    "#---25% of iron element----\n",
    "iron_25=iron.quantile(val=0.25)\n",
    "print(iron_25)"
   ]
  },
  {
   "cell_type": "code",
   "execution_count": 12,
   "metadata": {},
   "outputs": [
    {
     "name": "stdout",
     "output_type": "stream",
     "text": [
      "333933.2694126723\n"
     ]
    }
   ],
   "source": [
    "#---90% quantile of iron element----\n",
    "iron_90=iron.quantile(val=0.90)\n",
    "print(iron_90)"
   ]
  },
  {
   "cell_type": "code",
   "execution_count": 13,
   "metadata": {},
   "outputs": [
    {
     "data": {
      "text/plain": [
       "813"
      ]
     },
     "execution_count": 13,
     "metadata": {},
     "output_type": "execute_result"
    }
   ],
   "source": [
    "#---Total number of iron element tests----\n",
    "iron.total()"
   ]
  },
  {
   "cell_type": "code",
   "execution_count": null,
   "metadata": {},
   "outputs": [],
   "source": []
  }
 ],
 "metadata": {
  "kernelspec": {
   "display_name": "Python 3",
   "language": "python",
   "name": "python3"
  },
  "language_info": {
   "codemirror_mode": {
    "name": "ipython",
    "version": 3
   },
   "file_extension": ".py",
   "mimetype": "text/x-python",
   "name": "python",
   "nbconvert_exporter": "python",
   "pygments_lexer": "ipython3",
   "version": "3.7.0"
  }
 },
 "nbformat": 4,
 "nbformat_minor": 2
}
